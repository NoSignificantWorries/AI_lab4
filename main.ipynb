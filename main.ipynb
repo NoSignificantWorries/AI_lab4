{
 "cells": [
  {
   "cell_type": "code",
   "execution_count": 26,
   "id": "99f0cfff",
   "metadata": {},
   "outputs": [],
   "source": [
    "import os\n",
    "\n",
    "import numpy as np\n",
    "import matplotlib.pyplot as plt"
   ]
  },
  {
   "cell_type": "code",
   "execution_count": 27,
   "id": "5664138e",
   "metadata": {},
   "outputs": [],
   "source": [
    "def Batch2Col_test(batch: np.ndarray, kernel_shape: tuple[int, int]) -> np.ndarray:\n",
    "    bs, h, w, c = batch.shape\n",
    "    kh, kw = kernel_shape\n",
    "\n",
    "    Hk = h - kh + 1\n",
    "    Wk = w - kw + 1\n",
    "    \n",
    "    new_batch = []\n",
    "    for b in range(bs):\n",
    "        new_img = []\n",
    "        for i in range(Hk):\n",
    "            for j in range(Wk):\n",
    "                patch = np.reshape(batch[b, i:i + kh, j:j + kw, :], (kh * kw * c, 1))\n",
    "                new_img.append(patch)\n",
    "        new_batch.append(np.concatenate(new_img, axis=-1))\n",
    "    new_batch = np.array(new_batch)\n",
    "\n",
    "    return new_batch"
   ]
  },
  {
   "cell_type": "code",
   "execution_count": 28,
   "id": "acd27ec2",
   "metadata": {},
   "outputs": [
    {
     "name": "stdout",
     "output_type": "stream",
     "text": [
      "Kernels shape (Kh * Kw * C, N-kernels): (27, 3)\n",
      "Batch shape (Batch-size, Kh * Kw * C, Nh * Nw): (2, 27, 9)\n",
      "Batch of transposed images (Batch-size, Nh * Nw, Kh * Kw * C): (2, 9, 27)\n",
      "New Image shape (Batch-size, Nh * Nw, C-out): (2, 9, 3)\n",
      "Result batch (Batch-size, Nh, Nw, C-out) (2, 3, 3, 3)\n"
     ]
    },
    {
     "data": {
      "text/plain": [
       "<matplotlib.image.AxesImage at 0x73a802b25370>"
      ]
     },
     "execution_count": 28,
     "metadata": {},
     "output_type": "execute_result"
    },
    {
     "data": {
      "image/png": "[encoded data removed]",
      "text/plain": [
       "<Figure size 1800x600 with 4 Axes>"
      ]
     },
     "metadata": {},
     "output_type": "display_data"
    }
   ],
   "source": [
    "orig_img = np.zeros((5, 5, 3), dtype=np.float64)\n",
    "\n",
    "Hin, Win, c = orig_img.shape\n",
    "for k in range(c):\n",
    "    for i in range(Hin):\n",
    "        for j in range(Win):\n",
    "            orig_img[i, j, k] = i + j + k + 1\n",
    "orig_img = orig_img / orig_img.max()\n",
    "\n",
    "kernel = np.array([[[1, 1, 1], [1, 1, 1], [1, 1, 1]],\n",
    "                   [[1, 1, 1], [1, 1, 1], [1, 1, 1]],\n",
    "                   [[1, 1, 1], [1, 1, 1], [1, 1, 1]]])\n",
    "Kh, Kw, _ = kernel.shape\n",
    "kernel = kernel / (Kh * Kw * c)\n",
    "\n",
    "kernel_col = np.reshape(kernel, (Kh * Kw * c, 1))\n",
    "\n",
    "kernels = np.concatenate([kernel_col, kernel_col, kernel_col], axis=-1)\n",
    "\n",
    "red_img = orig_img.copy()\n",
    "red_img[:, :, 0] *= 255\n",
    "red_img[:, :, 1] = 0\n",
    "red_img[:, :, 2] = 0\n",
    "\n",
    "green_img = orig_img.copy()\n",
    "green_img[:, :, 0] = 0\n",
    "green_img[:, :, 1] *= 255\n",
    "green_img[:, :, 2] = 0\n",
    "\n",
    "kernels = np.concatenate([kernel_col, kernel_col, kernel_col], axis=-1)\n",
    "print(\"Kernels shape (Kh * Kw * C, N-kernels):\", kernels.shape)\n",
    "\n",
    "img_batch = np.array([red_img, green_img])\n",
    "img_cols = Batch2Col_test(img_batch, (3, 3))\n",
    "# Nh - num of patches along column\n",
    "# Nw - num of patches along row\n",
    "print(\"Batch shape (Batch-size, Kh * Kw * C, Nh * Nw):\", img_cols.shape)\n",
    "img_cols = img_cols.transpose((0, 2, 1))\n",
    "print(\"Batch of transposed images (Batch-size, Nh * Nw, Kh * Kw * C):\", img_cols.shape)\n",
    "\n",
    "new_img = np.matmul(img_cols, kernels)\n",
    "print(\"New Image shape (Batch-size, Nh * Nw, C-out):\", new_img.shape)\n",
    "\n",
    "new_img = np.reshape(new_img, (2, 3, 3, 3))\n",
    "print(\"Result batch (Batch-size, Nh, Nw, C-out)\", new_img.shape)\n",
    "\n",
    "fig, ax = plt.subplots(nrows=1, ncols=4, figsize=(18, 6))\n",
    "\n",
    "ax[0].imshow(np.uint8(red_img))\n",
    "ax[1].imshow(np.uint8(green_img))\n",
    "ax[2].imshow(np.uint8(new_img[0]))\n",
    "ax[3].imshow(np.uint8(new_img[1]))"
   ]
  },
  {
   "cell_type": "markdown",
   "id": "40eb3e9d",
   "metadata": {},
   "source": [
    "### Математика процесса одного шага свёртки\n",
    "\n",
    "Есть набор картинок (батч) размера (Bs, Hin, Win, Cin), где Bs - размер батча, Hin - высота изображения, Win - ширина изображения, Cin - количество входных каналов (3 в большинстве случаев)\n",
    "\n",
    "Все картинки в батче нужно преобразовать в матрицы (массивы колонок), где каждый столбец - это развёрнутый в столбец патч (часть изображения размером с ядро), операция Img2Col. Пусть фунцкия для всего батча Batch2Col.\n",
    "\n",
    "Batch2Col:\n",
    "- Принимает массив формы входного батча (зависит от слоя)\n",
    "- Выдаёт массив формы (Bs, Kh * Kw * Cin, Nh * Nw)\n",
    "Здесь Kh - высота ядра, Kw - ширина ядра, C - количество каналов входного батча, Nh = Hin - Kh + 1 - количество патчей по вертикали, Nw = Win - Kw + 1 - количество патчей по горизонтали. При том что мы берём stride = 1, Nh и Nw эквивалентны Hout и Wout - размерам выходного изображения в батче.\n",
    "\n",
    "Перевод патча в колонку можно выполнить простым развёртыванием через `reshape` в формат (Kh * Kw * Cin, 1) - вектор-столбец, что нам и нужно. Столбцы по изображению объединяем в матрицу, а матрицы обратно в батч.\n",
    "\n",
    "Формула свёртки после Img2Col: $B^T = K^T \\cdot ImgCols$, где B - выходное изображение в виде вектора-строки, K - ядро в виде вектора-столбца, ImgCols - матрица из Img2Col. Соответсвенно можно переписать в виде $B = {ImgCols}^T \\cdot K$.\n",
    "Обобщим на более чем одно ядро, тогда мы можем представить K как матрицу формы (Kh * Kw * Cin), где столбцы - развёрнутые ядра. Тогда B - выходная матрица формата (Nh * Nw, Cout), где Cout - количество ядер или же выходных каналов.\n",
    "\n",
    "Теперь обощим на батч. Всё останется почти тем же, только добавится ещё измерение батчей.\n",
    "\n",
    "Для полного пайплайна работы слоя добавим паддинг для сохранения размера.\n",
    "Тогда получаем следующий алгоритм:\n",
    "1) Input: (Bs, Hin, Win, Cin)\n",
    "2) Padding: (Bs, Hpad = Hin + pad * 2, Wpad = Win + pad * 2, Cin)\n",
    "3) Batch2Col: (Bs, Kh * Kw * Cin, Nh * Nw)\n",
    "4) Transpose batch (0, 2, 1): (Bs, Nh * Nw, Kh * Kw * Cin)\n",
    "5) Convolution (matmul): ImgCols(Bs, Nh * Nw, Kh * Kw * Cin) @ (Kh * Kw * Cin, Cout) = (Bs, Nh * Nw, Cout)\n",
    "6) Reshape to normal form: (Bs, Nh, Nw, Cout)"
   ]
  },
  {
   "cell_type": "code",
   "execution_count": 29,
   "id": "0a4ad79c",
   "metadata": {},
   "outputs": [],
   "source": [
    "def Batch2Col(batch: np.ndarray, kernel_shape: tuple[int, int]) -> np.ndarray:\n",
    "    Bs, Hin, Win, Cin = batch.shape\n",
    "    Kh, Kw = kernel_shape\n",
    "\n",
    "    Nh = Hin - Kh + 1\n",
    "    Nw = Win - Kw + 1\n",
    "    \n",
    "    new_batch = []\n",
    "    for b in range(Bs):\n",
    "        new_cols = []\n",
    "        for i in range(Nh):\n",
    "            for j in range(Nw):\n",
    "                patch = np.reshape(batch[b, i:i + Kh, j:j + Kw, :], (Kh * Kw * Cin, 1))\n",
    "                new_cols.append(patch)\n",
    "        new_batch.append(np.concatenate(new_cols, axis=-1))\n",
    "    new_batch = np.array(new_batch)\n",
    "\n",
    "    return new_batch"
   ]
  },
  {
   "cell_type": "code",
   "execution_count": 30,
   "id": "ddd8c942",
   "metadata": {},
   "outputs": [],
   "source": [
    "def Conv(batch: np.ndarray, Cin: int, kernel_size: tuple[int, int] = (3, 3), Cout: int = 1, pad: int = 0) -> np.ndarray:\n",
    "    # __init__\n",
    "    Kh, Kw = kernel_size\n",
    "\n",
    "    in_kernel = np.zeros((Kh * Kw * Cin, Cout), dtype=np.float64)\n",
    "    in_kernel[:, :] = 1 / in_kernel.shape[0]\n",
    "\n",
    "    # __runtime__\n",
    "    Bs, Hin, Win, _ = batch.shape\n",
    "    padded_batch = np.zeros((Bs, Hin + pad * 2, Win + pad * 2, Cin), dtype=np.float64)\n",
    "    padded_batch[:, pad:Hin + pad, pad:Win + pad, :] = batch\n",
    "    Bs, Hin, Win, _ = padded_batch.shape\n",
    "    Nh = Hin - Kh + 1\n",
    "    Nw = Win - Kw + 1\n",
    "    \n",
    "\n",
    "    BatchCols = Batch2Col(padded_batch, kernel_size)\n",
    "    BatchColsT = BatchCols.transpose((0, 2, 1))\n",
    "    \n",
    "    conv = np.matmul(BatchColsT, in_kernel)\n",
    "    conv_r = conv.reshape((Bs, Nh, Nw, Cout))\n",
    "    \n",
    "    return conv_r"
   ]
  },
  {
   "cell_type": "code",
   "execution_count": 31,
   "id": "cf36ea76",
   "metadata": {},
   "outputs": [
    {
     "data": {
      "text/plain": [
       "<matplotlib.image.AxesImage at 0x73a8017e3770>"
      ]
     },
     "execution_count": 31,
     "metadata": {},
     "output_type": "execute_result"
    },
    {
     "data": {
      "image/png": "[encoded data removed]",
      "text/plain": [
       "<Figure size 1800x600 with 4 Axes>"
      ]
     },
     "metadata": {},
     "output_type": "display_data"
    }
   ],
   "source": [
    "orig_img = np.zeros((5, 5, 3), dtype=np.float64)\n",
    "\n",
    "Hin, Win, c = orig_img.shape\n",
    "for k in range(c):\n",
    "    for i in range(Hin):\n",
    "        for j in range(Win):\n",
    "            orig_img[i, j, k] = i + j + k + 1\n",
    "orig_img = orig_img / orig_img.max()\n",
    "\n",
    "red_img = orig_img.copy()\n",
    "red_img[:, :, 0] *= 255\n",
    "red_img[:, :, 1] = 0\n",
    "red_img[:, :, 2] = 0\n",
    "\n",
    "green_img = orig_img.copy()\n",
    "green_img[:, :, 0] = 0\n",
    "green_img[:, :, 1] *= 255\n",
    "green_img[:, :, 2] = 0\n",
    "\n",
    "img_batch = np.array([red_img, green_img])\n",
    "\n",
    "new_img = Conv(img_batch, 3, (3, 3), 3, 1)\n",
    "\n",
    "fig, ax = plt.subplots(nrows=1, ncols=4, figsize=(18, 6))\n",
    "\n",
    "ax[0].imshow(np.uint8(red_img))\n",
    "ax[1].imshow(np.uint8(green_img))\n",
    "ax[2].imshow(np.uint8(new_img[0]))\n",
    "ax[3].imshow(np.uint8(new_img[1]))"
   ]
  }
 ],
 "metadata": {
  "kernelspec": {
   "display_name": ".venv",
   "language": "python",
   "name": "python3"
  },
  "language_info": {
   "codemirror_mode": {
    "name": "ipython",
    "version": 3
   },
   "file_extension": ".py",
   "mimetype": "text/x-python",
   "name": "python",
   "nbconvert_exporter": "python",
   "pygments_lexer": "ipython3",
   "version": "3.12.3"
  }
 },
 "nbformat": 4,
 "nbformat_minor": 5
}
